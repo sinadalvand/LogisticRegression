{
 "cells": [
  {
   "cell_type": "markdown",
   "source": [
    "<h1 align=\"center\">Implementation of Logestic Regression</h1>\n",
    "<h6 align=\"center\">Excersice 2</h6>\n",
    "</br>\n",
    "<h3 align=\"center\">Sina Dalvand</h3>\n",
    "<h6 align=\"center\">dalvandsina@yahoo.com</h6>"
   ],
   "metadata": {
    "collapsed": false,
    "pycharm": {
     "name": "#%% md\n"
    }
   }
  },
  {
   "cell_type": "raw",
   "source": [],
   "metadata": {
    "collapsed": false,
    "pycharm": {
     "name": "#%% raw\n"
    }
   }
  },
  {
   "cell_type": "raw",
   "source": [
    "import necessary libraries"
   ],
   "metadata": {
    "collapsed": false,
    "pycharm": {
     "name": "#%% raw\n"
    }
   }
  },
  {
   "cell_type": "code",
   "execution_count": 34,
   "outputs": [],
   "source": [
    "import numpy as np\n",
    "import pandas as pd\n",
    "import random"
   ],
   "metadata": {
    "collapsed": false,
    "pycharm": {
     "name": "#%%\n"
    }
   }
  },
  {
   "cell_type": "raw",
   "source": [],
   "metadata": {
    "collapsed": false,
    "pycharm": {
     "name": "#%% raw\n"
    }
   }
  },
  {
   "cell_type": "raw",
   "source": [
    "read data from excel file"
   ],
   "metadata": {
    "collapsed": false
   }
  },
  {
   "cell_type": "code",
   "execution_count": 35,
   "outputs": [
    {
     "data": {
      "text/plain": "      0     1     2     3    4     5     6     7     8     9     10    11  \\\n0   13.2  1.78  2.14  11.2  100  2.65  2.76  0.26  1.28  4.38  1.05   3.4   \n1  13.16  2.36  2.67  18.6  101   2.8  3.24   0.3  2.81  5.68  1.03  3.17   \n2  14.37  1.95   2.5  16.8  113  3.85  3.49  0.24  2.18   7.8  0.86  3.45   \n3  13.24  2.59  2.87  21.0  118   2.8  2.69  0.39  1.82  4.32  1.04  2.93   \n4   14.2  1.76  2.45  15.2  112  3.27  3.39  0.34  1.97  6.75  1.05  2.85   \n5  14.39  1.87  2.45  14.6   96   2.5  2.52   0.3  1.98  5.25  1.02  3.58   \n6  14.06  2.15  2.61  17.6  121   2.6  2.51  0.31  1.25  5.05  1.06  3.58   \n7  14.83  1.64  2.17  14.0   97   2.8  2.98  0.29  1.98   5.2  1.08  2.85   \n8  13.86  1.35  2.27  16.0   98  2.98  3.15  0.22  1.85  7.22  1.01  3.55   \n9   14.1  2.16   2.3  18.0  105  2.95  3.32  0.22  2.38  5.75  1.25  3.17   \n\n     12 13  \n0  1050  A  \n1  1185  A  \n2  1480  A  \n3   735  A  \n4  1450  A  \n5  1290  A  \n6  1295  A  \n7  1045  A  \n8  1045  A  \n9  1510  A  ",
      "text/html": "<div>\n<style scoped>\n    .dataframe tbody tr th:only-of-type {\n        vertical-align: middle;\n    }\n\n    .dataframe tbody tr th {\n        vertical-align: top;\n    }\n\n    .dataframe thead th {\n        text-align: right;\n    }\n</style>\n<table border=\"1\" class=\"dataframe\">\n  <thead>\n    <tr style=\"text-align: right;\">\n      <th></th>\n      <th>0</th>\n      <th>1</th>\n      <th>2</th>\n      <th>3</th>\n      <th>4</th>\n      <th>5</th>\n      <th>6</th>\n      <th>7</th>\n      <th>8</th>\n      <th>9</th>\n      <th>10</th>\n      <th>11</th>\n      <th>12</th>\n      <th>13</th>\n    </tr>\n  </thead>\n  <tbody>\n    <tr>\n      <th>0</th>\n      <td>13.2</td>\n      <td>1.78</td>\n      <td>2.14</td>\n      <td>11.2</td>\n      <td>100</td>\n      <td>2.65</td>\n      <td>2.76</td>\n      <td>0.26</td>\n      <td>1.28</td>\n      <td>4.38</td>\n      <td>1.05</td>\n      <td>3.4</td>\n      <td>1050</td>\n      <td>A</td>\n    </tr>\n    <tr>\n      <th>1</th>\n      <td>13.16</td>\n      <td>2.36</td>\n      <td>2.67</td>\n      <td>18.6</td>\n      <td>101</td>\n      <td>2.8</td>\n      <td>3.24</td>\n      <td>0.3</td>\n      <td>2.81</td>\n      <td>5.68</td>\n      <td>1.03</td>\n      <td>3.17</td>\n      <td>1185</td>\n      <td>A</td>\n    </tr>\n    <tr>\n      <th>2</th>\n      <td>14.37</td>\n      <td>1.95</td>\n      <td>2.5</td>\n      <td>16.8</td>\n      <td>113</td>\n      <td>3.85</td>\n      <td>3.49</td>\n      <td>0.24</td>\n      <td>2.18</td>\n      <td>7.8</td>\n      <td>0.86</td>\n      <td>3.45</td>\n      <td>1480</td>\n      <td>A</td>\n    </tr>\n    <tr>\n      <th>3</th>\n      <td>13.24</td>\n      <td>2.59</td>\n      <td>2.87</td>\n      <td>21.0</td>\n      <td>118</td>\n      <td>2.8</td>\n      <td>2.69</td>\n      <td>0.39</td>\n      <td>1.82</td>\n      <td>4.32</td>\n      <td>1.04</td>\n      <td>2.93</td>\n      <td>735</td>\n      <td>A</td>\n    </tr>\n    <tr>\n      <th>4</th>\n      <td>14.2</td>\n      <td>1.76</td>\n      <td>2.45</td>\n      <td>15.2</td>\n      <td>112</td>\n      <td>3.27</td>\n      <td>3.39</td>\n      <td>0.34</td>\n      <td>1.97</td>\n      <td>6.75</td>\n      <td>1.05</td>\n      <td>2.85</td>\n      <td>1450</td>\n      <td>A</td>\n    </tr>\n    <tr>\n      <th>5</th>\n      <td>14.39</td>\n      <td>1.87</td>\n      <td>2.45</td>\n      <td>14.6</td>\n      <td>96</td>\n      <td>2.5</td>\n      <td>2.52</td>\n      <td>0.3</td>\n      <td>1.98</td>\n      <td>5.25</td>\n      <td>1.02</td>\n      <td>3.58</td>\n      <td>1290</td>\n      <td>A</td>\n    </tr>\n    <tr>\n      <th>6</th>\n      <td>14.06</td>\n      <td>2.15</td>\n      <td>2.61</td>\n      <td>17.6</td>\n      <td>121</td>\n      <td>2.6</td>\n      <td>2.51</td>\n      <td>0.31</td>\n      <td>1.25</td>\n      <td>5.05</td>\n      <td>1.06</td>\n      <td>3.58</td>\n      <td>1295</td>\n      <td>A</td>\n    </tr>\n    <tr>\n      <th>7</th>\n      <td>14.83</td>\n      <td>1.64</td>\n      <td>2.17</td>\n      <td>14.0</td>\n      <td>97</td>\n      <td>2.8</td>\n      <td>2.98</td>\n      <td>0.29</td>\n      <td>1.98</td>\n      <td>5.2</td>\n      <td>1.08</td>\n      <td>2.85</td>\n      <td>1045</td>\n      <td>A</td>\n    </tr>\n    <tr>\n      <th>8</th>\n      <td>13.86</td>\n      <td>1.35</td>\n      <td>2.27</td>\n      <td>16.0</td>\n      <td>98</td>\n      <td>2.98</td>\n      <td>3.15</td>\n      <td>0.22</td>\n      <td>1.85</td>\n      <td>7.22</td>\n      <td>1.01</td>\n      <td>3.55</td>\n      <td>1045</td>\n      <td>A</td>\n    </tr>\n    <tr>\n      <th>9</th>\n      <td>14.1</td>\n      <td>2.16</td>\n      <td>2.3</td>\n      <td>18.0</td>\n      <td>105</td>\n      <td>2.95</td>\n      <td>3.32</td>\n      <td>0.22</td>\n      <td>2.38</td>\n      <td>5.75</td>\n      <td>1.25</td>\n      <td>3.17</td>\n      <td>1510</td>\n      <td>A</td>\n    </tr>\n  </tbody>\n</table>\n</div>"
     },
     "execution_count": 35,
     "metadata": {},
     "output_type": "execute_result"
    }
   ],
   "source": [
    "df = pd.read_excel('dataset.xls', 'Data').to_numpy()\n",
    "pd.DataFrame(df).head(10)"
   ],
   "metadata": {
    "collapsed": false,
    "pycharm": {
     "name": "#%%\n"
    }
   }
  },
  {
   "cell_type": "raw",
   "source": [
    "\n",
    "\n",
    "\n",
    "Tuning data (70% Training, 30% Testing)"
   ],
   "metadata": {
    "collapsed": false,
    "pycharm": {
     "name": "#%% raw\n"
    }
   }
  },
  {
   "cell_type": "code",
   "execution_count": 36,
   "outputs": [
    {
     "name": "stdout",
     "output_type": "stream",
     "text": [
      "train_set size: 123, test_set size: 54\n"
     ]
    }
   ],
   "source": [
    "threshold = int(len(df) * 0.7)\n",
    "randomArray = [True if i < threshold else False for i in range(len(df))]\n",
    "random.shuffle(randomArray)\n",
    "randomArray = list(zip(randomArray, df.tolist()))\n",
    "test_set = np.array(list(map(lambda y: y[1], filter(lambda x: x[0] == False, randomArray))))\n",
    "train_set = np.array(list(map(lambda y: y[1], filter(lambda x: x[0] == True, randomArray))))\n",
    "print(f\"train_set size: {len(train_set)}, test_set size: {len(test_set)}\")"
   ],
   "metadata": {
    "collapsed": false,
    "pycharm": {
     "name": "#%%\n"
    }
   }
  },
  {
   "cell_type": "raw",
   "source": [
    "\n",
    "\n",
    "\n",
    "separate features and labels"
   ],
   "metadata": {
    "collapsed": false,
    "pycharm": {
     "name": "#%% raw\n"
    }
   }
  },
  {
   "cell_type": "code",
   "execution_count": 37,
   "outputs": [],
   "source": [
    "featureCounts = len(df[0])-1\n",
    "X_train = train_set[:, :featureCounts]\n",
    "Y_train = train_set[:, featureCounts]\n",
    "X_test = test_set[:, :featureCounts]\n",
    "Y_test = test_set[:, featureCounts]"
   ],
   "metadata": {
    "collapsed": false,
    "pycharm": {
     "name": "#%%\n"
    }
   }
  },
  {
   "cell_type": "raw",
   "source": [
    "\n",
    "\n",
    "now should do scale on data"
   ],
   "metadata": {
    "collapsed": false,
    "pycharm": {
     "name": "#%% raw\n"
    }
   }
  },
  {
   "cell_type": "code",
   "execution_count": 38,
   "outputs": [],
   "source": [
    "def normalize(data):\n",
    "    data = data.astype(float)\n",
    "    return (data - np.mean(data,axis=0)) / np.std(data, axis=0)\n",
    "\n",
    "X_train = normalize(X_train)\n",
    "X_test = normalize(X_test)\n",
    "X_train = np.column_stack((np.ones((len(X_train), 1)), X_train))\n",
    "X_test = np.column_stack((np.ones((len(X_test), 1)), X_test))"
   ],
   "metadata": {
    "collapsed": false,
    "pycharm": {
     "name": "#%%\n"
    }
   }
  },
  {
   "cell_type": "markdown",
   "source": [
    "\n",
    "\n",
    "let's implement logistic regression"
   ],
   "metadata": {
    "collapsed": false,
    "pycharm": {
     "name": "#%% md\n"
    }
   }
  },
  {
   "cell_type": "code",
   "execution_count": 39,
   "outputs": [],
   "source": [
    "def sigmoid(x):\n",
    "    return 1 / (1 + np.exp(-x))\n",
    "\n",
    "\n",
    "def specificClass(y, j):\n",
    "    return"
   ],
   "metadata": {
    "collapsed": false,
    "pycharm": {
     "name": "#%%\n"
    }
   }
  },
  {
   "cell_type": "code",
   "execution_count": 40,
   "outputs": [
    {
     "data": {
      "text/plain": "[array([-0.54068058, -1.13458208, -0.54158834, -0.52779402,  0.4279611 ,\n        -0.26054804, -0.07931379,  0.1305145 ,  0.06709353,  0.18213171,\n        -1.07477302,  0.66960608,  0.22621019, -1.05617313]),\n array([-1.27077582,  0.29408317,  0.47862868,  0.16300248,  0.30404382,\n         0.04697625, -0.27965457, -0.69093543,  0.06716043, -0.20785959,\n         1.02731101, -0.78382079, -0.79531513, -0.07287648]),\n array([-1.07039484,  0.87395379,  0.14978171,  0.42700957, -0.80435054,\n         0.18764125,  0.36033936,  0.56114721, -0.13423798, -0.05478952,\n         0.15270129,  0.10728032,  0.53447349,  1.17739363])]"
     },
     "execution_count": 40,
     "metadata": {},
     "output_type": "execute_result"
    }
   ],
   "source": [
    "def gradientDescent(X, y, alpha, itr):\n",
    "    n = X.shape[1]\n",
    "    classes = list(set(y))\n",
    "    thetas = []\n",
    "    for j in range(len(classes)):\n",
    "        theta = np.zeros((n, 1))\n",
    "        innerY = np.asarray(list(map(lambda x: [1] if (x[0] == classes[j]) else [0], y)))\n",
    "        m = len(innerY)\n",
    "        for i in range(itr):\n",
    "            theta = theta - (alpha * (1 / m * (np.dot(X.T, (sigmoid(np.dot(X, theta)) - innerY)))))\n",
    "        thetas.append(theta.flatten())\n",
    "    return thetas, classes\n",
    "\n",
    "\n",
    "thetas, classes = gradientDescent(X_train, Y_train, 0.03, 500)\n",
    "thetas"
   ],
   "metadata": {
    "collapsed": false,
    "pycharm": {
     "name": "#%%\n"
    }
   }
  },
  {
   "cell_type": "raw",
   "source": [
    "\n",
    "\n",
    "\n",
    "Evaluate the model"
   ],
   "metadata": {
    "collapsed": false,
    "pycharm": {
     "name": "#%% raw\n"
    }
   }
  },
  {
   "cell_type": "code",
   "execution_count": 41,
   "outputs": [
    {
     "name": "stdout",
     "output_type": "stream",
     "text": [
      "Accuracy for Train Set: 1.0\n",
      "Accuracy for Test Set: 0.9814814814814815\n"
     ]
    }
   ],
   "source": [
    "def predict(X, theta):\n",
    "    p = sigmoid(X @ np.asarray(theta).T)\n",
    "    p = np.asarray(list(map(lambda x: np.argmax(x), p)))\n",
    "    return p\n",
    "\n",
    "train_set_value = list(map(lambda x: classes[x], predict(X_train, thetas)))\n",
    "train_set_percent = sum(train_set_value == Y_train) / len(Y_train)\n",
    "print(f\"Accuracy for Train Set: {train_set_percent}\")\n",
    "\n",
    "test_set_value = list(map(lambda x: classes[x], predict(X_test, thetas)))\n",
    "test_set_percent = sum(test_set_value == Y_test) / len(Y_test)\n",
    "print(f\"Accuracy for Test Set: {test_set_percent}\")"
   ],
   "metadata": {
    "collapsed": false,
    "pycharm": {
     "name": "#%%\n"
    }
   }
  }
 ],
 "metadata": {
  "kernelspec": {
   "display_name": "Python 3",
   "language": "python",
   "name": "python3"
  },
  "language_info": {
   "codemirror_mode": {
    "name": "ipython",
    "version": 2
   },
   "file_extension": ".py",
   "mimetype": "text/x-python",
   "name": "python",
   "nbconvert_exporter": "python",
   "pygments_lexer": "ipython2",
   "version": "2.7.6"
  }
 },
 "nbformat": 4,
 "nbformat_minor": 0
}